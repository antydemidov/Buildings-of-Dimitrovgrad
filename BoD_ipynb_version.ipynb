{
 "cells": [
  {
   "attachments": {},
   "cell_type": "markdown",
   "metadata": {},
   "source": [
    "# Получение данных о домах города"
   ]
  },
  {
   "cell_type": "code",
   "execution_count": 1,
   "metadata": {},
   "outputs": [],
   "source": [
    "import requests as rq\n",
    "import pandas as pd\n",
    "import json\n",
    "from dadata import Dadata\n",
    "from bs4 import BeautifulSoup as bs\n",
    "from shapely.geometry import Polygon\n",
    "from shapely.geometry import Point"
   ]
  },
  {
   "cell_type": "code",
   "execution_count": 7,
   "metadata": {},
   "outputs": [],
   "source": [
    "fias_houses_codes = list(pd.DataFrame(pd.read_csv('E:/CODE/BUILDINGS_OF_DIMITROVGRAD/fias_houses_codes.csv'))['0'])"
   ]
  },
  {
   "attachments": {},
   "cell_type": "markdown",
   "metadata": {},
   "source": [
    "## ШАГ 0. Создаём функции"
   ]
  },
  {
   "cell_type": "code",
   "execution_count": null,
   "metadata": {
    "collapsed": false,
    "pycharm": {
     "is_executing": true
    }
   },
   "outputs": [],
   "source": [
    "print('Hello')"
   ]
  },
  {
   "cell_type": "code",
   "execution_count": 8,
   "metadata": {},
   "outputs": [],
   "source": [
    "# Обработка результатов от dadata.ru\n",
    "def create_line(result):\n",
    "    line1 = {}\n",
    "    if result != []:\n",
    "        line1.update({'value':result[0]['value']})\n",
    "        line1.update({'unrestricted_value':result[0]['unrestricted_value']})\n",
    "        for keys in result[0]['data'].keys():\n",
    "            line1.update({keys:result[0]['data'][keys]})\n",
    "    return line1"
   ]
  },
  {
   "cell_type": "code",
   "execution_count": 37,
   "metadata": {},
   "outputs": [],
   "source": [
    "# Получение кодов улиц\n",
    "def parser(site):\n",
    "    source = rq.get(site).content\n",
    "    soup = bs(source, 'html.parser')\n",
    "\n",
    "    table_label = soup.findAll('th')\n",
    "    table_data = soup.findAll('td')\n",
    "\n",
    "    table_data_list = []\n",
    "    for item in list(table_data):\n",
    "        table_data_list.append(item.string)\n",
    "    result = {}\n",
    "    for k in range(0, len(table_data_list), 6):\n",
    "        result.update({table_data_list[k]:table_data_list[k+2:k+6]})\n",
    "\n",
    "    return result"
   ]
  },
  {
   "cell_type": "code",
   "execution_count": 10,
   "metadata": {},
   "outputs": [],
   "source": [
    "# Получение кодов домов\n",
    "def houses_by_street(site):\n",
    "    source = rq.get(site).text\n",
    "    soup = bs(source)\n",
    "    href = []\n",
    "    for item in soup.findAll('a', class_=\"kladrs-objects__number\"):\n",
    "        attr = item.attrs\n",
    "        href.append(attr['href'])\n",
    "    return href"
   ]
  },
  {
   "attachments": {},
   "cell_type": "markdown",
   "metadata": {},
   "source": [
    "## ШАГ 1. Получаем коды улиц города\n",
    "\n",
    "alta.ru Улицы по коду города"
   ]
  },
  {
   "cell_type": "code",
   "execution_count": 46,
   "metadata": {},
   "outputs": [],
   "source": [
    "source = rq.get('https://www.alta.ru/fias/73b29372-242c-42c5-89cd-8814bc2368af/').text\n",
    "soup = bs(source)\n",
    "href = []\n",
    "for item in soup.findAll('a', class_=\"jFastSearch_key\"):\n",
    "    attr = item.attrs\n",
    "    href.append(attr['href'])\n",
    "fias_streets = []\n",
    "for item in href:\n",
    "    fias_streets.append(item[6:-1])\n",
    "del([item, soup, source, href])"
   ]
  },
  {
   "attachments": {},
   "cell_type": "markdown",
   "metadata": {},
   "source": [
    "## ШАГ 2. Получаем коды домов по кодам улиц\n",
    "\n",
    "alta.ru Дома по коду улицы"
   ]
  },
  {
   "cell_type": "code",
   "execution_count": 66,
   "metadata": {},
   "outputs": [],
   "source": [
    "fias_houses = []\n",
    "for street_code in fias_streets:\n",
    "    site = 'https://www.alta.ru/fias/' + street_code + '/'\n",
    "    fias_houses.append(houses_by_street(site))"
   ]
  },
  {
   "cell_type": "code",
   "execution_count": 69,
   "metadata": {},
   "outputs": [],
   "source": [
    "fias_houses_all = []\n",
    "for item in fias_houses:\n",
    "    for elem in item:\n",
    "        fias_houses_all.append(elem)"
   ]
  },
  {
   "cell_type": "code",
   "execution_count": 71,
   "metadata": {},
   "outputs": [],
   "source": [
    "fias_houses_codes = []\n",
    "for item in fias_houses_all:\n",
    "    fias_houses_codes.append(item[6:-1])"
   ]
  },
  {
   "attachments": {},
   "cell_type": "markdown",
   "metadata": {},
   "source": [
    "## ШАГ 3. Получаем данные по кодам домов\n",
    "\n",
    "dadata.ru Поиск данных по коду дома"
   ]
  },
  {
   "cell_type": "code",
   "execution_count": 74,
   "metadata": {},
   "outputs": [],
   "source": [
    "# Dadata в бесплатном пакете позволяет отработать 10 000 запросов.\n",
    "# Для более крупных задач необходима подписка.\n",
    "# Поэтому запросы были выполнены в разные дни, массив был разделён на две части.\n",
    "\n",
    "token = str(open('E:/CODE/BUILDINGS_OF_DIMITROVGRAD/access_3.txt', 'r').read())\n",
    "dadata = Dadata(token)\n",
    "\n",
    "full_info = []\n",
    "for i in range(len(fias_houses_codes)):\n",
    "    if i >= 9000:\n",
    "        code = fias_houses_codes[i]\n",
    "        result = dadata.find_by_id(\"address\", code)\n",
    "        full_info.append(create_line(result))"
   ]
  },
  {
   "attachments": {},
   "cell_type": "markdown",
   "metadata": {},
   "source": [
    "# Another Script"
   ]
  },
  {
   "cell_type": "code",
   "execution_count": null,
   "metadata": {},
   "outputs": [],
   "source": [
    "a = pd.read_csv('full_info.csv', encoding='cp1251')"
   ]
  },
  {
   "cell_type": "code",
   "execution_count": null,
   "metadata": {},
   "outputs": [],
   "source": [
    "full = pd.read_csv('E:/CODE/BUILDINGS_OF_DIMITROVGRAD/full_info_edit.csv', encoding='cp1251', index_col='index', na_values=None, sep=';')"
   ]
  },
  {
   "attachments": {},
   "cell_type": "markdown",
   "metadata": {},
   "source": [
    "## Дом МинЖКХ"
   ]
  },
  {
   "cell_type": "code",
   "execution_count": 38,
   "metadata": {},
   "outputs": [
    {
     "data": {
      "text/html": [
       "<div>\n",
       "<style scoped>\n",
       "    .dataframe tbody tr th:only-of-type {\n",
       "        vertical-align: middle;\n",
       "    }\n",
       "\n",
       "    .dataframe tbody tr th {\n",
       "        vertical-align: top;\n",
       "    }\n",
       "\n",
       "    .dataframe thead th {\n",
       "        text-align: right;\n",
       "    }\n",
       "</style>\n",
       "<table border=\"1\" class=\"dataframe\">\n",
       "  <thead>\n",
       "    <tr style=\"text-align: right;\">\n",
       "      <th></th>\n",
       "      <th>0</th>\n",
       "      <th>1</th>\n",
       "      <th>2</th>\n",
       "      <th>3</th>\n",
       "    </tr>\n",
       "  </thead>\n",
       "  <tbody>\n",
       "    <tr>\n",
       "      <th>1</th>\n",
       "      <td>ул. 989 км, д. 5</td>\n",
       "      <td>166.11</td>\n",
       "      <td>1936</td>\n",
       "      <td>1</td>\n",
       "    </tr>\n",
       "    <tr>\n",
       "      <th>2</th>\n",
       "      <td>ул. 981 км, д. 1</td>\n",
       "      <td>191.63</td>\n",
       "      <td>1937</td>\n",
       "      <td>1</td>\n",
       "    </tr>\n",
       "    <tr>\n",
       "      <th>3</th>\n",
       "      <td>ул. 989 км, д. 3</td>\n",
       "      <td>45.75</td>\n",
       "      <td>1936</td>\n",
       "      <td>1</td>\n",
       "    </tr>\n",
       "    <tr>\n",
       "      <th>4</th>\n",
       "      <td>ул. 981 км, д. 3</td>\n",
       "      <td>23.94</td>\n",
       "      <td>1937</td>\n",
       "      <td>1</td>\n",
       "    </tr>\n",
       "    <tr>\n",
       "      <th>5</th>\n",
       "      <td>ул. 989 км, д. 2</td>\n",
       "      <td>92.65</td>\n",
       "      <td>1941</td>\n",
       "      <td>1</td>\n",
       "    </tr>\n",
       "    <tr>\n",
       "      <th>...</th>\n",
       "      <td>...</td>\n",
       "      <td>...</td>\n",
       "      <td>...</td>\n",
       "      <td>...</td>\n",
       "    </tr>\n",
       "    <tr>\n",
       "      <th>998</th>\n",
       "      <td>ул. Чехова, д. 2</td>\n",
       "      <td>880.80</td>\n",
       "      <td>1975</td>\n",
       "      <td>2</td>\n",
       "    </tr>\n",
       "    <tr>\n",
       "      <th>999</th>\n",
       "      <td>ул. Чкалова, д. 56</td>\n",
       "      <td>5456.98</td>\n",
       "      <td>2012</td>\n",
       "      <td>3</td>\n",
       "    </tr>\n",
       "    <tr>\n",
       "      <th>1000</th>\n",
       "      <td>ул. Шмидта, д. 1</td>\n",
       "      <td>412.77</td>\n",
       "      <td>1958</td>\n",
       "      <td>1</td>\n",
       "    </tr>\n",
       "    <tr>\n",
       "      <th>1001</th>\n",
       "      <td>ул. Эшенбаха, д. 15</td>\n",
       "      <td>21.00</td>\n",
       "      <td>1950</td>\n",
       "      <td>1</td>\n",
       "    </tr>\n",
       "    <tr>\n",
       "      <th>1002</th>\n",
       "      <td>ул. Эшенбаха, д. 47</td>\n",
       "      <td>19.66</td>\n",
       "      <td>1950</td>\n",
       "      <td>1</td>\n",
       "    </tr>\n",
       "  </tbody>\n",
       "</table>\n",
       "<p>1002 rows × 4 columns</p>\n",
       "</div>"
      ],
      "text/plain": [
       "                        0        1     2  3\n",
       "1        ул. 989 км, д. 5   166.11  1936  1\n",
       "2        ул. 981 км, д. 1   191.63  1937  1\n",
       "3        ул. 989 км, д. 3    45.75  1936  1\n",
       "4        ул. 981 км, д. 3    23.94  1937  1\n",
       "5        ул. 989 км, д. 2    92.65  1941  1\n",
       "...                   ...      ...   ... ..\n",
       "998      ул. Чехова, д. 2   880.80  1975  2\n",
       "999    ул. Чкалова, д. 56  5456.98  2012  3\n",
       "1000     ул. Шмидта, д. 1   412.77  1958  1\n",
       "1001  ул. Эшенбаха, д. 15    21.00  1950  1\n",
       "1002  ул. Эшенбаха, д. 47    19.66  1950  1\n",
       "\n",
       "[1002 rows x 4 columns]"
      ]
     },
     "execution_count": 38,
     "metadata": {},
     "output_type": "execute_result"
    }
   ],
   "source": [
    "result_list = []\n",
    "for i in range(11):\n",
    "    number_page = i+1\n",
    "    site = 'https://dom.mingkh.ru/ulyanovskaya-oblast/dimitrovgrad/houses?page=' + str(number_page)\n",
    "    result_list.append(parser(site))\n",
    "\n",
    "result_0 = {}\n",
    "for item in result_list:\n",
    "    result_0.update(item)\n",
    "\n",
    "result_1 = pd.DataFrame(result_0).T\n",
    "result_1"
   ]
  },
  {
   "cell_type": "code",
   "execution_count": 19,
   "metadata": {},
   "outputs": [],
   "source": [
    "result_dict = result_1.T.to_dict()"
   ]
  },
  {
   "cell_type": "code",
   "execution_count": 82,
   "metadata": {},
   "outputs": [],
   "source": [
    "addresses = {}\n",
    "for i in range(len(result_dict)):\n",
    "    addresses.update({list(result_dict.keys())[i]: result_dict[str(i+1)][0].split(', ')})"
   ]
  },
  {
   "cell_type": "code",
   "execution_count": null,
   "metadata": {},
   "outputs": [],
   "source": [
    "lines = []\n",
    "for el in list(addresses.values()):\n",
    "    line = []\n",
    "    for item in el:\n",
    "        line.append(item.split('. '))\n",
    "    lines.append(line)"
   ]
  },
  {
   "cell_type": "code",
   "execution_count": 112,
   "metadata": {},
   "outputs": [],
   "source": [
    "street = []\n",
    "for a in lines:\n",
    "    street.append([a[0][1], a[1][1]])"
   ]
  },
  {
   "cell_type": "code",
   "execution_count": 123,
   "metadata": {},
   "outputs": [],
   "source": [
    "data_address = pd.DataFrame(street, columns=['street', 'house'])"
   ]
  },
  {
   "cell_type": "code",
   "execution_count": 124,
   "metadata": {},
   "outputs": [],
   "source": [
    "space = []\n",
    "for i in range(len(result_dict)):\n",
    "    space.append(result_dict[str(i+1)][1])"
   ]
  },
  {
   "cell_type": "code",
   "execution_count": 125,
   "metadata": {},
   "outputs": [],
   "source": [
    "year = []\n",
    "for i in range(len(result_dict)):\n",
    "    year.append(result_dict[str(i+1)][2])"
   ]
  },
  {
   "cell_type": "code",
   "execution_count": 158,
   "metadata": {},
   "outputs": [],
   "source": [
    "space_pd = pd.DataFrame(space, columns=['space'])\n",
    "year_pd = pd.DataFrame(year, columns=['year'])"
   ]
  },
  {
   "cell_type": "code",
   "execution_count": 159,
   "metadata": {},
   "outputs": [],
   "source": [
    "data_new = pd.concat([data_address, space_pd, year_pd], axis=1)"
   ]
  },
  {
   "cell_type": "code",
   "execution_count": null,
   "metadata": {},
   "outputs": [],
   "source": [
    "list(data_new.items())[a][1]"
   ]
  },
  {
   "cell_type": "code",
   "execution_count": null,
   "metadata": {},
   "outputs": [],
   "source": [
    "for a in range(len(list(data_new.items()))):\n",
    "    for b in range(len(list(data_new.items())[a][1])):\n",
    "        if list(data_new.items())[a][1][b] == 'Ленина':\n",
    "            print(list(data_new.items())[0][1][b], list(data_new.items())[1][1][b], list(data_new.items())[2][1][b], list(data_new.items())[3][1][b])"
   ]
  },
  {
   "attachments": {},
   "cell_type": "markdown",
   "metadata": {},
   "source": [
    "## Данные OSM"
   ]
  },
  {
   "cell_type": "code",
   "execution_count": 105,
   "metadata": {},
   "outputs": [],
   "source": [
    "path = 'C:/Users/User/Desktop/test.geojson'\n",
    "f = json.loads(open(path, 'r', encoding='utf-8').read())\n",
    "del(path)"
   ]
  },
  {
   "cell_type": "code",
   "execution_count": 1,
   "metadata": {},
   "outputs": [],
   "source": [
    "#results = []\n",
    "#for i in range(len(f['features'])):\n",
    "#    values = []\n",
    "#    for key in columns:\n",
    "#        if f['features'][i]['properties'][key] != None:\n",
    "#            values.append(f['features'][i]['properties'][key])\n",
    "#    if values == []:\n",
    "#        results.append(None)\n",
    "#    else:\n",
    "#        results.append(values)"
   ]
  },
  {
   "cell_type": "code",
   "execution_count": 106,
   "metadata": {},
   "outputs": [],
   "source": [
    "lines = []\n",
    "for i in range(len(f['features'])):\n",
    "    line = {}\n",
    "    keys = list(f['features'][i]['properties'].keys())[0:-1]\n",
    "    for key in keys:\n",
    "        line.update({key: f['features'][i]['properties'][key]})\n",
    "    try:\n",
    "        tags = f['features'][i]['properties']['other_tags'].split(',')\n",
    "        for tag in tags:\n",
    "            line.update({tag.split('=>')[0][1:-1]: tag.split('=>')[1][1:-1]})\n",
    "    except:\n",
    "        pass\n",
    "    try:\n",
    "        coords = f['features'][i]['geometry']['coordinates'][0][0]\n",
    "        line.update({'coordinates': coords})\n",
    "    except:\n",
    "        pass\n",
    "    lines.append(line)\n",
    "# cleaner\n",
    "del([line, key, keys, coords, i, f, tag, tags])"
   ]
  },
  {
   "cell_type": "code",
   "execution_count": 107,
   "metadata": {},
   "outputs": [],
   "source": [
    "lines_pd = pd.DataFrame(lines)"
   ]
  },
  {
   "cell_type": "code",
   "execution_count": 39,
   "metadata": {},
   "outputs": [],
   "source": [
    "# Short data\n",
    "results = []\n",
    "for i in range(len(lines_pd)):\n",
    "    values = {}\n",
    "    for col in lines_pd.columns:\n",
    "        value = lines_pd[col][i]\n",
    "        if value != None and str(value) != 'nan':\n",
    "            values.update({col: value})\n",
    "    results.append(values)"
   ]
  },
  {
   "cell_type": "code",
   "execution_count": null,
   "metadata": {},
   "outputs": [],
   "source": [
    "# Optimizer Log Maker\n",
    "def optimizer_log(col_name: str):\n",
    "    optimized_col = {}\n",
    "    i = 0\n",
    "    for item in list(set(lines_pd[col_name])):\n",
    "        pass"
   ]
  },
  {
   "cell_type": "code",
   "execution_count": 6,
   "metadata": {},
   "outputs": [],
   "source": [
    "# Optimize Data\n",
    "def optimizer(col_name: str):\n",
    "    optimized_col = {}\n",
    "    i = 0\n",
    "    for item in list(set(lines_pd[col_name])):\n",
    "        optimized_col.update({item: i})\n",
    "        i += 1\n",
    "    del(i)\n",
    "    del(item)\n",
    "    return optimized_col"
   ]
  },
  {
   "attachments": {},
   "cell_type": "markdown",
   "metadata": {},
   "source": [
    "### Вычисляем центроиды"
   ]
  },
  {
   "cell_type": "code",
   "execution_count": 108,
   "metadata": {},
   "outputs": [],
   "source": [
    "centroids = []\n",
    "for i in range(len(lines)):\n",
    "    coord = []\n",
    "    for item in lines[i]['coordinates']:\n",
    "        coord.append(tuple([item[0], item[1]]))\n",
    "    polygon = Polygon(coord)\n",
    "    centroids.append(list(polygon.centroid.coords)[0])\n",
    "# cleaner\n",
    "del([i, coord, item, polygon])"
   ]
  },
  {
   "cell_type": "code",
   "execution_count": 177,
   "metadata": {},
   "outputs": [
    {
     "data": {
      "text/plain": [
       "'POLYGON ((49.5779508 54.2384449, 49.5781548 54.2383552, 49.5782579 54.2381733, 49.5781965 54.2381359, 49.5780985 54.2380062, 49.5777832 54.238034, 49.5775619 54.2381877, 49.5775443 54.2383221, 49.5776747 54.2383677, 49.5779508 54.2384449))'"
      ]
     },
     "execution_count": 177,
     "metadata": {},
     "output_type": "execute_result"
    }
   ],
   "source": [
    "lines[0]['WKT_polygon']"
   ]
  },
  {
   "cell_type": "code",
   "execution_count": 176,
   "metadata": {},
   "outputs": [],
   "source": [
    "# Add centroids to the main data\n",
    "for i in range(len(lines)):\n",
    "    lines[i].update({'centroid_lon': lines[i]['centroid'][0], 'centroid_lat': lines[i]['centroid'][1]})\n",
    "    lines[i].update({'WKT_centroid': str('POINT (' + str(lines[i]['centroid'][0]) + ' ' + str(lines[i]['centroid'][1]) + ')')})\n",
    "    poly = 'POLYGON (('\n",
    "    for j in range(len(lines[i]['coordinates'])):\n",
    "        poly += str(lines[i]['coordinates'][j][0]) + ' ' + str(lines[i]['coordinates'][j][1])\n",
    "        if j != len((lines)[i]['coordinates'])-1:\n",
    "            poly += ', '\n",
    "    poly += '))'\n",
    "    lines[i].update({'WKT_polygon': poly})"
   ]
  },
  {
   "cell_type": "code",
   "execution_count": 178,
   "metadata": {},
   "outputs": [],
   "source": [
    "pd.DataFrame(lines).to_csv('full_osm_data_v4.csv', encoding='utf-8', sep=';')"
   ]
  },
  {
   "cell_type": "code",
   "execution_count": null,
   "metadata": {},
   "outputs": [],
   "source": [
    "centroids[i][0]"
   ]
  },
  {
   "cell_type": "code",
   "execution_count": 119,
   "metadata": {},
   "outputs": [
    {
     "name": "stdout",
     "output_type": "stream",
     "text": [
      "['osm_id', 'osm_way_id', 'name', 'type', 'aeroway', 'amenity', 'admin_level', 'barrier', 'boundary', 'building', 'craft', 'geological', 'historic', 'land_area', 'landuse', 'leisure', 'man_made', 'military', 'natural', 'office', 'place', 'shop', 'sport', 'tourism', 'coordinates', 'waterway', 'addr:housenumber', 'addr:street', 'leaf_type', 'addr:city', 'addr:country', 'addr:postcode', 'addr:region', 'building:levels', 'roof:shape', 'area:highway', 'building:colour', 'building:design', 'building:flats', 'building:material', 'start_date', 'building:part', 'building:min_level', 'industrial', 'description', 'roof:orientation', 'access', 'fee', 'parking', 'building:start_date', 'alt_name', 'surface', 'water', 'official_name', 'phone', 'full_name', 'website', 'wikidata', 'wikipedia', 'bus', 'public_transport', 'roof:material', 'roof:colour', 'healthcare', 'healthcare:speciality', 'operator', 'ref', 'vaccination', 'contact:phone', 'fence_type', 'opening_hours', 'denomination', 'religion', 'short_name', 'layer', 'internet_access', 'name:ja', 'old_name', 'administrative', 'architect:wikidata', 'architect:wikipedia', 'wheelchair', 'plant:output:hot_water', 'power', 'fast_food', 'payment:cash', 'private', 'contact:vk', 'resort', 'addr:flats', 'roof', 'name:ru', 'brand', 'brand:en', 'brand:ru', 'brand:wikidata', 'brand:wikipedia', 'name:en', 'addr:district', 'official_status', 'seasonal', 'substation', 'seamark:harbour:category', 'seamark:type', 'railway', 'wetland', 'contact:website', 'internet_access:fee', 'fenced', 'capacity', 'contact:email', 'contact:facebook', 'contact:instagram', 'contact:ok', 'delivery', 'toilets', 'url', 'wheelchair:description:ru', 'brewery', 'supervised', 'automated', 'self_service', 'cuisine', 'fence', 'survey:date', 'noname', 'location', 'rating', 'voltage', 'shelter_type', 'roof:levels', 'bench', 'hoops', 'leaf_cycle', 'lit', 'bin', 'pipeline', 'substance', 'highway', 'outdoor_seating', 'footway', 'max_age', 'min_age', 'level', 'payment:credit_cards', 'service', 'intermittent', 'tidal', 'museum']\n"
     ]
    }
   ],
   "source": [
    "print(list(lines_pd.columns))"
   ]
  },
  {
   "cell_type": "code",
   "execution_count": null,
   "metadata": {},
   "outputs": [],
   "source": [
    "token = \"TOKEN\"\n",
    "secret = \"SECRET_TOKEN\"\n",
    "dadata = Dadata(token, secret)"
   ]
  },
  {
   "cell_type": "code",
   "execution_count": 53,
   "metadata": {},
   "outputs": [],
   "source": [
    "dadata_data = []\n",
    "for i in range(len(result_0)):\n",
    "    result = dadata.clean(\"address\", str('г. Димитровград, ' + result_0[str(i+1)][0]))\n",
    "    dadata_data.append(result)"
   ]
  },
  {
   "cell_type": "code",
   "execution_count": 82,
   "metadata": {},
   "outputs": [],
   "source": [
    "result_2 = []\n",
    "for i in range(len(result_0)):\n",
    "    line = {}\n",
    "    line.update({'gkh_full_address': str('г. Димитровград, ' + result_0[str(i+1)][0])})\n",
    "    line.update({'gkh_area': result_0[str(i+1)][1]})\n",
    "    line.update({'gkh_year': result_0[str(i+1)][2]})\n",
    "    line.update({'gkh_floors': result_0[str(i+1)][3]})\n",
    "    result_2.append(line)"
   ]
  },
  {
   "cell_type": "code",
   "execution_count": 83,
   "metadata": {},
   "outputs": [
    {
     "data": {
      "text/plain": [
       "{'gkh_full_address': 'г. Димитровград, ул. 989 км, д. 5',\n",
       " 'gkh_area': '166.11',\n",
       " 'gkh_year': '1936',\n",
       " 'gkh_floors': '1'}"
      ]
     },
     "execution_count": 83,
     "metadata": {},
     "output_type": "execute_result"
    }
   ],
   "source": [
    "result_2[0]"
   ]
  },
  {
   "cell_type": "code",
   "execution_count": 73,
   "metadata": {},
   "outputs": [],
   "source": [
    "addresses = []\n",
    "for i in range(len(result_0)):\n",
    "    address = []\n",
    "    for item in result_0[str(i+1)][0].split(', '):\n",
    "        for item2 in item.split('. '):\n",
    "            address.append(item2)\n",
    "    addresses.append(address)"
   ]
  },
  {
   "cell_type": "code",
   "execution_count": 78,
   "metadata": {},
   "outputs": [
    {
     "data": {
      "text/plain": [
       "{'source': 'г. Димитровград, ул. 989 км, д. 5',\n",
       " 'result': 'Ульяновская обл, г Димитровград, ул 989 км, д 5',\n",
       " 'postal_code': '433509',\n",
       " 'country': 'Россия',\n",
       " 'country_iso_code': 'RU',\n",
       " 'federal_district': 'Приволжский',\n",
       " 'region_fias_id': 'fee76045-fe22-43a4-ad58-ad99e903bd58',\n",
       " 'region_kladr_id': '7300000000000',\n",
       " 'region_iso_code': 'RU-ULY',\n",
       " 'region_with_type': 'Ульяновская обл',\n",
       " 'region_type': 'обл',\n",
       " 'region_type_full': 'область',\n",
       " 'region': 'Ульяновская',\n",
       " 'area_fias_id': None,\n",
       " 'area_kladr_id': None,\n",
       " 'area_with_type': None,\n",
       " 'area_type': None,\n",
       " 'area_type_full': None,\n",
       " 'area': None,\n",
       " 'city_fias_id': '73b29372-242c-42c5-89cd-8814bc2368af',\n",
       " 'city_kladr_id': '7300000200000',\n",
       " 'city_with_type': 'г Димитровград',\n",
       " 'city_type': 'г',\n",
       " 'city_type_full': 'город',\n",
       " 'city': 'Димитровград',\n",
       " 'city_area': None,\n",
       " 'city_district_fias_id': None,\n",
       " 'city_district_kladr_id': None,\n",
       " 'city_district_with_type': None,\n",
       " 'city_district_type': None,\n",
       " 'city_district_type_full': None,\n",
       " 'city_district': None,\n",
       " 'settlement_fias_id': None,\n",
       " 'settlement_kladr_id': None,\n",
       " 'settlement_with_type': None,\n",
       " 'settlement_type': None,\n",
       " 'settlement_type_full': None,\n",
       " 'settlement': None,\n",
       " 'street_fias_id': '2cd913e9-2774-46f6-8f37-833f8e7ccae2',\n",
       " 'street_kladr_id': '73000002000026900',\n",
       " 'street_with_type': 'ул 989 км',\n",
       " 'street_type': 'ул',\n",
       " 'street_type_full': 'улица',\n",
       " 'street': '989 км',\n",
       " 'house_fias_id': '6dbe289a-308a-466b-b976-8da0f214847a',\n",
       " 'house_kladr_id': '7300000200002690005',\n",
       " 'house_type': 'д',\n",
       " 'house_type_full': 'дом',\n",
       " 'house': '5',\n",
       " 'block_type': None,\n",
       " 'block_type_full': None,\n",
       " 'block': None,\n",
       " 'entrance': None,\n",
       " 'floor': None,\n",
       " 'flat_fias_id': None,\n",
       " 'flat_type': None,\n",
       " 'flat_type_full': None,\n",
       " 'flat': None,\n",
       " 'flat_area': None,\n",
       " 'square_meter_price': None,\n",
       " 'flat_price': None,\n",
       " 'postal_box': None,\n",
       " 'fias_id': '6dbe289a-308a-466b-b976-8da0f214847a',\n",
       " 'fias_code': '73000002000000002690005',\n",
       " 'fias_level': '8',\n",
       " 'fias_actuality_state': '0',\n",
       " 'kladr_id': '7300000200002690005',\n",
       " 'capital_marker': '0',\n",
       " 'okato': '73405000000',\n",
       " 'oktmo': '73705000001',\n",
       " 'tax_office': '7329',\n",
       " 'tax_office_legal': '7329',\n",
       " 'timezone': 'UTC+4',\n",
       " 'geo_lat': '54.2022221',\n",
       " 'geo_lon': '49.6565693',\n",
       " 'beltway_hit': None,\n",
       " 'beltway_distance': None,\n",
       " 'qc_geo': 0,\n",
       " 'qc_complete': 5,\n",
       " 'qc_house': 2,\n",
       " 'qc': 0,\n",
       " 'unparsed_parts': None,\n",
       " 'metro': None}"
      ]
     },
     "execution_count": 78,
     "metadata": {},
     "output_type": "execute_result"
    }
   ],
   "source": [
    "dadata_data[0]"
   ]
  },
  {
   "cell_type": "code",
   "execution_count": 87,
   "metadata": {},
   "outputs": [],
   "source": [
    "for i in range(len(dadata_data)):\n",
    "    dadata_data[i].update(result_2[i])"
   ]
  },
  {
   "cell_type": "code",
   "execution_count": 86,
   "metadata": {},
   "outputs": [],
   "source": [
    "dadata_data_copy = dadata_data"
   ]
  },
  {
   "cell_type": "code",
   "execution_count": 91,
   "metadata": {},
   "outputs": [],
   "source": [
    "pd.DataFrame(dadata_data).to_csv('dadata_data.csv', encoding='cp1251')"
   ]
  },
  {
   "attachments": {},
   "cell_type": "markdown",
   "metadata": {},
   "source": [
    "## Join `full data` and `gkh data`"
   ]
  },
  {
   "cell_type": "code",
   "execution_count": 2,
   "metadata": {},
   "outputs": [],
   "source": [
    "data_1 = pd.read_csv('E:/CODE/BUILDINGS_OF_DIMITROVGRAD/project/dadata_data.csv', sep=',', na_values=None, encoding='cp1251')\n",
    "data_2 = pd.read_csv('E:/CODE/BUILDINGS_OF_DIMITROVGRAD/data_utf-8.csv', sep=';', na_values=None, low_memory=False)\n",
    "data_1_json = data_1.T.to_dict()\n",
    "data_2_json = data_2.T.to_dict()"
   ]
  },
  {
   "cell_type": "code",
   "execution_count": 100,
   "metadata": {},
   "outputs": [],
   "source": [
    "error_data = []\n",
    "joined_data = {}\n",
    "for i in range(len(data_2_json)):\n",
    "    joined_data.update({i: {}})\n",
    "\n",
    "for i in range(len(data_1_json)):\n",
    "    a = 0\n",
    "    for j in range(len(data_2_json)):\n",
    "        if a == 1:\n",
    "            break\n",
    "        if data_1_json[i]['house_fias_id'] == data_2_json[j]['house_fias_id']:\n",
    "            joined_data[j].update(data_1_json[i])\n",
    "            a += 1\n",
    "        joined_data[j].update(data_2_json[j])\n",
    "    if a != 1:\n",
    "        error_data.append(data_1_json[i])"
   ]
  },
  {
   "attachments": {},
   "cell_type": "markdown",
   "metadata": {},
   "source": [
    "# FIAS"
   ]
  },
  {
   "attachments": {},
   "cell_type": "markdown",
   "metadata": {},
   "source": [
    "## FIAS | BeautifulSoup"
   ]
  },
  {
   "cell_type": "code",
   "execution_count": 1,
   "metadata": {},
   "outputs": [],
   "source": [
    "from bs4 import BeautifulSoup as bs"
   ]
  },
  {
   "cell_type": "code",
   "execution_count": 2,
   "metadata": {},
   "outputs": [],
   "source": [
    "soup = bs(open('E:/opendata/ФИАС/73/AS_HOUSES_20211125_6f6cc0e9-6978-459e-9755-0deed43b46ef.XML', 'r', encoding='utf-8'), 'xml')"
   ]
  },
  {
   "cell_type": "code",
   "execution_count": null,
   "metadata": {},
   "outputs": [],
   "source": [
    "soup.find('HOUSE')"
   ]
  },
  {
   "cell_type": "code",
   "execution_count": 3,
   "metadata": {},
   "outputs": [
    {
     "name": "stdout",
     "output_type": "stream",
     "text": [
      "300092\n"
     ]
    }
   ],
   "source": [
    "count = 0\n",
    "for item in soup.find_all('HOUSE'):\n",
    "    if item.attrs['ISACTUAL'] == '1':\n",
    "        count += 1\n",
    "print(count)"
   ]
  },
  {
   "cell_type": "code",
   "execution_count": 3,
   "metadata": {},
   "outputs": [],
   "source": [
    "data = []\n",
    "houses = list(soup.findAll('HOUSE'))\n",
    "for house in houses:\n",
    "    data.append(house.attrs)"
   ]
  },
  {
   "cell_type": "code",
   "execution_count": null,
   "metadata": {},
   "outputs": [],
   "source": [
    "import pandas as pd\n",
    "pd.DataFrame(data).to_csv('houses.csv')"
   ]
  },
  {
   "cell_type": "code",
   "execution_count": null,
   "metadata": {},
   "outputs": [],
   "source": [
    "print('hello')"
   ]
  },
  {
   "cell_type": "code",
   "execution_count": 2,
   "metadata": {},
   "outputs": [],
   "source": [
    "city_general_data = {\n",
    "    'name_ru': 'Димитровград',\n",
    "    'name_en': 'Dimitrovgrad',\n",
    "    'region_full_name_ru': 'Ульяновская область',\n",
    "    'region_full_name_en': 'Ulyanovsk region',\n",
    "    'fias_code_city': '73b29372-242c-42c5-89cd-8814bc2368af',\n",
    "    'fias_code_region': 'fee76045-fe22-43a4-ad58-ad99e903bd58'\n",
    "}"
   ]
  },
  {
   "cell_type": "code",
   "execution_count": 3,
   "metadata": {},
   "outputs": [
    {
     "data": {
      "text/plain": [
       "{'name_ru': 'Димитровград',\n",
       " 'name_en': 'Dimitrovgrad',\n",
       " 'region_full_name_ru': 'Ульяновская область',\n",
       " 'region_full_name_en': 'Ulyanovsk region',\n",
       " 'fias_code_city': '73b29372-242c-42c5-89cd-8814bc2368af',\n",
       " 'fias_code_region': 'fee76045-fe22-43a4-ad58-ad99e903bd58'}"
      ]
     },
     "execution_count": 3,
     "metadata": {},
     "output_type": "execute_result"
    }
   ],
   "source": [
    "city_general_data"
   ]
  },
  {
   "attachments": {},
   "cell_type": "markdown",
   "metadata": {},
   "source": [
    "## FIAS | lxml"
   ]
  },
  {
   "cell_type": "code",
   "execution_count": 67,
   "metadata": {},
   "outputs": [],
   "source": [
    "fias_desc = open('E:/opendata/ФИАС/AS_ADDR_OBJ_TYPES_20211125_402d7dfd-7209-4f9e-8fbe-021ef197d1cc.XML', 'r', encoding='utf-8').read()"
   ]
  },
  {
   "cell_type": "code",
   "execution_count": 68,
   "metadata": {},
   "outputs": [],
   "source": [
    "root = etree.fromstring(fias_desc)"
   ]
  },
  {
   "cell_type": "code",
   "execution_count": 40,
   "metadata": {},
   "outputs": [],
   "source": [
    "data = []\n",
    "for i in range(len(root.findall('HOUSETYPE'))):\n",
    "    data.append(root.findall('HOUSETYPE')[i].items())"
   ]
  },
  {
   "cell_type": "code",
   "execution_count": 47,
   "metadata": {},
   "outputs": [
    {
     "data": {
      "text/html": [
       "<div>\n",
       "<style scoped>\n",
       "    .dataframe tbody tr th:only-of-type {\n",
       "        vertical-align: middle;\n",
       "    }\n",
       "\n",
       "    .dataframe tbody tr th {\n",
       "        vertical-align: top;\n",
       "    }\n",
       "\n",
       "    .dataframe thead th {\n",
       "        text-align: right;\n",
       "    }\n",
       "</style>\n",
       "<table border=\"1\" class=\"dataframe\">\n",
       "  <thead>\n",
       "    <tr style=\"text-align: right;\">\n",
       "      <th></th>\n",
       "      <th>0</th>\n",
       "      <th>1</th>\n",
       "      <th>2</th>\n",
       "      <th>3</th>\n",
       "      <th>4</th>\n",
       "      <th>5</th>\n",
       "      <th>6</th>\n",
       "      <th>7</th>\n",
       "    </tr>\n",
       "  </thead>\n",
       "  <tbody>\n",
       "    <tr>\n",
       "      <th>0</th>\n",
       "      <td>(ID, 1)</td>\n",
       "      <td>(NAME, Корпус)</td>\n",
       "      <td>(SHORTNAME, к.)</td>\n",
       "      <td>(DESC, Корпус)</td>\n",
       "      <td>(ISACTIVE, true)</td>\n",
       "      <td>(UPDATEDATE, 2015-12-25)</td>\n",
       "      <td>(STARTDATE, 2015-12-25)</td>\n",
       "      <td>(ENDDATE, 2079-06-06)</td>\n",
       "    </tr>\n",
       "    <tr>\n",
       "      <th>1</th>\n",
       "      <td>(ID, 2)</td>\n",
       "      <td>(NAME, Строение)</td>\n",
       "      <td>(SHORTNAME, стр.)</td>\n",
       "      <td>(DESC, Строение)</td>\n",
       "      <td>(ISACTIVE, true)</td>\n",
       "      <td>(UPDATEDATE, 2015-12-25)</td>\n",
       "      <td>(STARTDATE, 2015-12-25)</td>\n",
       "      <td>(ENDDATE, 2079-06-06)</td>\n",
       "    </tr>\n",
       "    <tr>\n",
       "      <th>2</th>\n",
       "      <td>(ID, 3)</td>\n",
       "      <td>(NAME, Сооружение)</td>\n",
       "      <td>(SHORTNAME, соор.)</td>\n",
       "      <td>(DESC, Сооружение)</td>\n",
       "      <td>(ISACTIVE, true)</td>\n",
       "      <td>(UPDATEDATE, 2015-12-25)</td>\n",
       "      <td>(STARTDATE, 2015-12-25)</td>\n",
       "      <td>(ENDDATE, 2079-06-06)</td>\n",
       "    </tr>\n",
       "    <tr>\n",
       "      <th>3</th>\n",
       "      <td>(ID, 4)</td>\n",
       "      <td>(NAME, Литера)</td>\n",
       "      <td>(SHORTNAME, литера)</td>\n",
       "      <td>(DESC, Литера)</td>\n",
       "      <td>(ISACTIVE, false)</td>\n",
       "      <td>(UPDATEDATE, 1900-01-01)</td>\n",
       "      <td>(STARTDATE, 1900-01-01)</td>\n",
       "      <td>(ENDDATE, 2015-12-25)</td>\n",
       "    </tr>\n",
       "  </tbody>\n",
       "</table>\n",
       "</div>"
      ],
      "text/plain": [
       "         0                   1                    2                   3  \\\n",
       "0  (ID, 1)      (NAME, Корпус)      (SHORTNAME, к.)      (DESC, Корпус)   \n",
       "1  (ID, 2)    (NAME, Строение)    (SHORTNAME, стр.)    (DESC, Строение)   \n",
       "2  (ID, 3)  (NAME, Сооружение)   (SHORTNAME, соор.)  (DESC, Сооружение)   \n",
       "3  (ID, 4)      (NAME, Литера)  (SHORTNAME, литера)      (DESC, Литера)   \n",
       "\n",
       "                   4                         5                        6  \\\n",
       "0   (ISACTIVE, true)  (UPDATEDATE, 2015-12-25)  (STARTDATE, 2015-12-25)   \n",
       "1   (ISACTIVE, true)  (UPDATEDATE, 2015-12-25)  (STARTDATE, 2015-12-25)   \n",
       "2   (ISACTIVE, true)  (UPDATEDATE, 2015-12-25)  (STARTDATE, 2015-12-25)   \n",
       "3  (ISACTIVE, false)  (UPDATEDATE, 1900-01-01)  (STARTDATE, 1900-01-01)   \n",
       "\n",
       "                       7  \n",
       "0  (ENDDATE, 2079-06-06)  \n",
       "1  (ENDDATE, 2079-06-06)  \n",
       "2  (ENDDATE, 2079-06-06)  \n",
       "3  (ENDDATE, 2015-12-25)  "
      ]
     },
     "execution_count": 47,
     "metadata": {},
     "output_type": "execute_result"
    }
   ],
   "source": [
    "pd.DataFrame(data)"
   ]
  },
  {
   "cell_type": "code",
   "execution_count": 51,
   "metadata": {},
   "outputs": [
    {
     "data": {
      "text/plain": [
       "('ID', '4')"
      ]
     },
     "execution_count": 51,
     "metadata": {},
     "output_type": "execute_result"
    }
   ],
   "source": [
    "root.findall('HOUSETYPE')[i].items()[0]"
   ]
  },
  {
   "cell_type": "code",
   "execution_count": 73,
   "metadata": {},
   "outputs": [],
   "source": [
    "result = []\n",
    "for item in root.getchildren():\n",
    "    line = {}\n",
    "    for el in item.items():\n",
    "        line.update({el[0]: el[1]})\n",
    "    result.append(line)"
   ]
  },
  {
   "cell_type": "code",
   "execution_count": 84,
   "metadata": {},
   "outputs": [
    {
     "data": {
      "text/html": [
       "<div>\n",
       "<style scoped>\n",
       "    .dataframe tbody tr th:only-of-type {\n",
       "        vertical-align: middle;\n",
       "    }\n",
       "\n",
       "    .dataframe tbody tr th {\n",
       "        vertical-align: top;\n",
       "    }\n",
       "\n",
       "    .dataframe thead th {\n",
       "        text-align: right;\n",
       "    }\n",
       "</style>\n",
       "<table border=\"1\" class=\"dataframe\">\n",
       "  <thead>\n",
       "    <tr style=\"text-align: right;\">\n",
       "      <th></th>\n",
       "      <th>ID</th>\n",
       "      <th>LEVEL</th>\n",
       "      <th>NAME</th>\n",
       "      <th>SHORTNAME</th>\n",
       "      <th>DESC</th>\n",
       "      <th>UPDATEDATE</th>\n",
       "      <th>STARTDATE</th>\n",
       "      <th>ENDDATE</th>\n",
       "      <th>ISACTIVE</th>\n",
       "    </tr>\n",
       "  </thead>\n",
       "  <tbody>\n",
       "    <tr>\n",
       "      <th>0</th>\n",
       "      <td>2</td>\n",
       "      <td>1</td>\n",
       "      <td>Автономная область</td>\n",
       "      <td>а.обл.</td>\n",
       "      <td>Автономная область</td>\n",
       "      <td>2015-11-05</td>\n",
       "      <td>2015-11-05</td>\n",
       "      <td>2079-06-06</td>\n",
       "      <td>true</td>\n",
       "    </tr>\n",
       "    <tr>\n",
       "      <th>1</th>\n",
       "      <td>5</td>\n",
       "      <td>1</td>\n",
       "      <td>Автономная область</td>\n",
       "      <td>Аобл</td>\n",
       "      <td>Автономная область</td>\n",
       "      <td>1900-01-01</td>\n",
       "      <td>1900-01-01</td>\n",
       "      <td>2015-11-05</td>\n",
       "      <td>true</td>\n",
       "    </tr>\n",
       "    <tr>\n",
       "      <th>2</th>\n",
       "      <td>4</td>\n",
       "      <td>1</td>\n",
       "      <td>Автономный округ</td>\n",
       "      <td>АО</td>\n",
       "      <td>Автономный округ</td>\n",
       "      <td>1900-01-01</td>\n",
       "      <td>1900-01-01</td>\n",
       "      <td>2015-11-05</td>\n",
       "      <td>true</td>\n",
       "    </tr>\n",
       "    <tr>\n",
       "      <th>3</th>\n",
       "      <td>3</td>\n",
       "      <td>1</td>\n",
       "      <td>Автономный округ</td>\n",
       "      <td>а.окр.</td>\n",
       "      <td>Автономный округ</td>\n",
       "      <td>2015-11-05</td>\n",
       "      <td>2015-11-05</td>\n",
       "      <td>2079-06-06</td>\n",
       "      <td>true</td>\n",
       "    </tr>\n",
       "    <tr>\n",
       "      <th>4</th>\n",
       "      <td>6</td>\n",
       "      <td>1</td>\n",
       "      <td>Город</td>\n",
       "      <td>г</td>\n",
       "      <td>Город</td>\n",
       "      <td>1900-01-01</td>\n",
       "      <td>1900-01-01</td>\n",
       "      <td>2015-11-05</td>\n",
       "      <td>true</td>\n",
       "    </tr>\n",
       "    <tr>\n",
       "      <th>...</th>\n",
       "      <td>...</td>\n",
       "      <td>...</td>\n",
       "      <td>...</td>\n",
       "      <td>...</td>\n",
       "      <td>...</td>\n",
       "      <td>...</td>\n",
       "      <td>...</td>\n",
       "      <td>...</td>\n",
       "      <td>...</td>\n",
       "    </tr>\n",
       "    <tr>\n",
       "      <th>391</th>\n",
       "      <td>410</td>\n",
       "      <td>16</td>\n",
       "      <td>Участок</td>\n",
       "      <td>уч-к</td>\n",
       "      <td>Участок</td>\n",
       "      <td>1900-01-01</td>\n",
       "      <td>1900-01-01</td>\n",
       "      <td>2015-12-31</td>\n",
       "      <td>true</td>\n",
       "    </tr>\n",
       "    <tr>\n",
       "      <th>392</th>\n",
       "      <td>411</td>\n",
       "      <td>16</td>\n",
       "      <td>Ферма</td>\n",
       "      <td>ферма</td>\n",
       "      <td>Ферма</td>\n",
       "      <td>1900-01-01</td>\n",
       "      <td>1900-01-01</td>\n",
       "      <td>2015-12-31</td>\n",
       "      <td>true</td>\n",
       "    </tr>\n",
       "    <tr>\n",
       "      <th>393</th>\n",
       "      <td>412</td>\n",
       "      <td>16</td>\n",
       "      <td>Хутор</td>\n",
       "      <td>х</td>\n",
       "      <td>Хутор</td>\n",
       "      <td>1900-01-01</td>\n",
       "      <td>1900-01-01</td>\n",
       "      <td>2079-06-06</td>\n",
       "      <td>true</td>\n",
       "    </tr>\n",
       "    <tr>\n",
       "      <th>394</th>\n",
       "      <td>413</td>\n",
       "      <td>16</td>\n",
       "      <td>Шоссе</td>\n",
       "      <td>ш</td>\n",
       "      <td>Шоссе</td>\n",
       "      <td>1900-01-01</td>\n",
       "      <td>1900-01-01</td>\n",
       "      <td>2079-06-06</td>\n",
       "      <td>true</td>\n",
       "    </tr>\n",
       "    <tr>\n",
       "      <th>395</th>\n",
       "      <td>227</td>\n",
       "      <td>17</td>\n",
       "      <td>Машино-место</td>\n",
       "      <td>м/м</td>\n",
       "      <td>Машино-место</td>\n",
       "      <td>2019-02-14</td>\n",
       "      <td>2019-02-14</td>\n",
       "      <td>2079-06-06</td>\n",
       "      <td>true</td>\n",
       "    </tr>\n",
       "  </tbody>\n",
       "</table>\n",
       "<p>396 rows × 9 columns</p>\n",
       "</div>"
      ],
      "text/plain": [
       "      ID LEVEL                NAME SHORTNAME                DESC  UPDATEDATE  \\\n",
       "0      2     1  Автономная область    а.обл.  Автономная область  2015-11-05   \n",
       "1      5     1  Автономная область      Аобл  Автономная область  1900-01-01   \n",
       "2      4     1    Автономный округ        АО    Автономный округ  1900-01-01   \n",
       "3      3     1    Автономный округ    а.окр.    Автономный округ  2015-11-05   \n",
       "4      6     1               Город         г               Город  1900-01-01   \n",
       "..   ...   ...                 ...       ...                 ...         ...   \n",
       "391  410    16             Участок      уч-к             Участок  1900-01-01   \n",
       "392  411    16               Ферма     ферма               Ферма  1900-01-01   \n",
       "393  412    16               Хутор         х               Хутор  1900-01-01   \n",
       "394  413    16               Шоссе         ш               Шоссе  1900-01-01   \n",
       "395  227    17        Машино-место       м/м        Машино-место  2019-02-14   \n",
       "\n",
       "      STARTDATE     ENDDATE ISACTIVE  \n",
       "0    2015-11-05  2079-06-06     true  \n",
       "1    1900-01-01  2015-11-05     true  \n",
       "2    1900-01-01  2015-11-05     true  \n",
       "3    2015-11-05  2079-06-06     true  \n",
       "4    1900-01-01  2015-11-05     true  \n",
       "..          ...         ...      ...  \n",
       "391  1900-01-01  2015-12-31     true  \n",
       "392  1900-01-01  2015-12-31     true  \n",
       "393  1900-01-01  2079-06-06     true  \n",
       "394  1900-01-01  2079-06-06     true  \n",
       "395  2019-02-14  2079-06-06     true  \n",
       "\n",
       "[396 rows x 9 columns]"
      ]
     },
     "execution_count": 84,
     "metadata": {},
     "output_type": "execute_result"
    }
   ],
   "source": [
    "pd.DataFrame(result)"
   ]
  },
  {
   "cell_type": "code",
   "execution_count": 1,
   "metadata": {},
   "outputs": [],
   "source": [
    "import pymongo as pm"
   ]
  },
  {
   "cell_type": "code",
   "execution_count": 9,
   "metadata": {},
   "outputs": [],
   "source": [
    "client = pm.MongoClient('localhost', 27017)"
   ]
  },
  {
   "cell_type": "code",
   "execution_count": 3,
   "metadata": {},
   "outputs": [],
   "source": [
    "BoD = client.get_database(\"BoD\")"
   ]
  },
  {
   "cell_type": "code",
   "execution_count": 4,
   "metadata": {},
   "outputs": [],
   "source": [
    "data_ADDR_OBJ = BoD.get_collection(\"data_ADDR_OBJ\")\n",
    "data_ADDR_OBJ_PARAMS = BoD.get_collection(\"data_ADDR_OBJ_PARAMS\")\n",
    "PARAM_TYPES = BoD.get_collection(\"PARAM_TYPES\")\n",
    "data_MUN_HIERARCHY = BoD.get_collection(\"data_MUN_HIERARCHY\")"
   ]
  },
  {
   "cell_type": "code",
   "execution_count": null,
   "metadata": {},
   "outputs": [],
   "source": [
    "data_ADDR_OBJ.find_one()"
   ]
  },
  {
   "cell_type": "code",
   "execution_count": null,
   "metadata": {},
   "outputs": [],
   "source": [
    "for i in range(len(list([*data_ADDR_OBJ_PARAMS.find({'OBJECTID': '95250250'})]))):\n",
    "    print(PARAM_TYPES.find_one({'ID': list([*data_ADDR_OBJ_PARAMS.find({'OBJECTID': '95250250'})])[i]['TYPEID']})['NAME'])"
   ]
  },
  {
   "cell_type": "code",
   "execution_count": 103,
   "metadata": {},
   "outputs": [],
   "source": [
    "child_of_dim = [*data_MUN_HIERARCHY.find({'PARENTOBJID': '1325470', 'ISACTIVE': '1'})]"
   ]
  },
  {
   "cell_type": "code",
   "execution_count": 130,
   "metadata": {},
   "outputs": [],
   "source": [
    "all_child = []\n",
    "for i in range(len(child_of_dim)):\n",
    "    level = 6\n",
    "    while level < 9:\n",
    "        data = list(data_ADDR_OBJ.find({'OBJECTID': child_of_dim[i]['OBJECTID'], 'LEVEL': str(level)}))\n",
    "        if data == []:\n",
    "            pass\n",
    "        else:\n",
    "            for item in data:\n",
    "                all_child.append(item)\n",
    "        level += 1"
   ]
  },
  {
   "cell_type": "code",
   "execution_count": 131,
   "metadata": {},
   "outputs": [
    {
     "data": {
      "text/plain": [
       "{'_id': ObjectId('61e59f579e54b96ad4a66179'),\n",
       " 'ID': '1642045',\n",
       " 'OBJECTID': '1329563',\n",
       " 'OBJECTGUID': '469a960e-e8dd-493f-8ce9-bab617f55069',\n",
       " 'CHANGEID': '3640235',\n",
       " 'NAME': 'Прибой',\n",
       " 'TYPENAME': 'тер. СНТ',\n",
       " 'LEVEL': '7',\n",
       " 'OPERTYPEID': '20',\n",
       " 'PREVID': '1642014',\n",
       " 'NEXTID': '0',\n",
       " 'UPDATEDATE': '2019-06-17',\n",
       " 'STARTDATE': '2019-06-17',\n",
       " 'ENDDATE': '2079-06-06',\n",
       " 'ISACTUAL': '1',\n",
       " 'ISACTIVE': '1'}"
      ]
     },
     "execution_count": 131,
     "metadata": {},
     "output_type": "execute_result"
    }
   ],
   "source": [
    "all_child[0]"
   ]
  }
 ],
 "metadata": {
  "interpreter": {
   "hash": "1f8d80d535cfd832283e4e3a1095d2ce45fe6627336684f2622a1965babb2f1c"
  },
  "kernelspec": {
   "display_name": "Python 3.9.7 64-bit (windows store)",
   "name": "python3"
  },
  "language_info": {
   "codemirror_mode": {
    "name": "ipython",
    "version": 3
   },
   "file_extension": ".py",
   "mimetype": "text/x-python",
   "name": "python",
   "nbconvert_exporter": "python",
   "pygments_lexer": "ipython3",
   "version": "3.9.10"
  },
  "orig_nbformat": 4
 },
 "nbformat": 4,
 "nbformat_minor": 2
}

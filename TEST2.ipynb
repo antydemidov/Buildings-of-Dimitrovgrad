{
 "cells": [
  {
   "cell_type": "markdown",
   "metadata": {},
   "source": [
    "# Получение данных о домах города"
   ]
  },
  {
   "cell_type": "code",
   "execution_count": 1,
   "metadata": {},
   "outputs": [],
   "source": [
    "import requests as rq\n",
    "import pandas as pd\n",
    "import json\n",
    "from dadata import Dadata\n",
    "from bs4 import BeautifulSoup as bs"
   ]
  },
  {
   "cell_type": "markdown",
   "metadata": {},
   "source": [
    "## ШАГ 0. Создаём функции"
   ]
  },
  {
   "cell_type": "code",
   "execution_count": 79,
   "metadata": {},
   "outputs": [],
   "source": [
    "# Обработка результатов от dadata.ru\n",
    "def create_line(result):\n",
    "    line1 = {}\n",
    "    line1.update({'value':result[0]['value']})\n",
    "    line1.update({'unrestricted_value':result[0]['unrestricted_value']})\n",
    "    for keys in result[0]['data'].keys():\n",
    "        line1.update({keys:result[0]['data'][keys]})\n",
    "    return line1"
   ]
  },
  {
   "cell_type": "code",
   "execution_count": 134,
   "metadata": {},
   "outputs": [],
   "source": [
    "# Получение кодов \n",
    "def parser(site):\n",
    "    source = rq.get(site).content\n",
    "    soup = bs(source, 'html.parser')\n",
    "\n",
    "    table_label = soup.findAll('th')\n",
    "    table_data = soup.findAll('td')\n",
    "\n",
    "    table_data_list = []\n",
    "    for item in list(table_data):\n",
    "        table_data_list.append(item.string)\n",
    "    result = {}\n",
    "    for k in range(0, len(table_data_list), 6):\n",
    "        result.update({table_data_list[k]:table_data_list[k+2:k+6]})\n",
    "\n",
    "    return result"
   ]
  },
  {
   "cell_type": "code",
   "execution_count": 65,
   "metadata": {},
   "outputs": [],
   "source": [
    "def houses_by_street(site):\n",
    "    source = rq.get(site).text\n",
    "    soup = bs(source)\n",
    "    href = []\n",
    "    for item in soup.findAll('a', class_=\"kladrs-objects__number\"):\n",
    "        attr = item.attrs\n",
    "        href.append(attr['href'])\n",
    "    return href"
   ]
  },
  {
   "cell_type": "markdown",
   "metadata": {},
   "source": [
    "## ШАГ 1. Получаем коды улиц города\n",
    "\n",
    "alta.ru Улицы по коду города"
   ]
  },
  {
   "cell_type": "code",
   "execution_count": 46,
   "metadata": {},
   "outputs": [],
   "source": [
    "source = rq.get('https://www.alta.ru/fias/73b29372-242c-42c5-89cd-8814bc2368af/').text\n",
    "soup = bs(source)\n",
    "href = []\n",
    "for item in soup.findAll('a', class_=\"jFastSearch_key\"):\n",
    "    attr = item.attrs\n",
    "    href.append(attr['href'])\n",
    "fias_streets = []\n",
    "for item in href:\n",
    "    fias_streets.append(item[6:-1])\n",
    "del([item, soup, source, href])"
   ]
  },
  {
   "cell_type": "markdown",
   "metadata": {},
   "source": [
    "## ШАГ 2. Получаем коды домов по кодам улиц\n",
    "\n",
    "alta.ru Дома по коду улицы"
   ]
  },
  {
   "cell_type": "code",
   "execution_count": 66,
   "metadata": {},
   "outputs": [],
   "source": [
    "fias_houses = []\n",
    "for street_code in fias_streets:\n",
    "    site = 'https://www.alta.ru/fias/' + street_code + '/'\n",
    "    fias_houses.append(houses_by_street(site))"
   ]
  },
  {
   "cell_type": "code",
   "execution_count": 69,
   "metadata": {},
   "outputs": [],
   "source": [
    "fias_houses_all = []\n",
    "for item in fias_houses:\n",
    "    for elem in item:\n",
    "        fias_houses_all.append(elem)"
   ]
  },
  {
   "cell_type": "code",
   "execution_count": 71,
   "metadata": {},
   "outputs": [],
   "source": [
    "fias_houses_codes = []\n",
    "for item in fias_houses_all:\n",
    "    fias_houses_codes.append(item[6:-1])"
   ]
  },
  {
   "cell_type": "markdown",
   "metadata": {},
   "source": [
    "## ШАГ 3. Получаем данные по кодам домов\n",
    "\n",
    "dadata.ru Поиск данных по коду дома"
   ]
  },
  {
   "cell_type": "code",
   "execution_count": 74,
   "metadata": {},
   "outputs": [],
   "source": [
    "token = str(open('E:/CODE/BUILDINGS_OF_DIMITROVGRAD/access_3.txt', 'r').read())\n",
    "dadata = Dadata(token)\n",
    "\n",
    "full_info = []\n",
    "for code in fias_houses_codes:\n",
    "    result = dadata.find_by_id(\"address\", code)\n",
    "    full_info.append(create_line(result))"
   ]
  },
  {
   "cell_type": "markdown",
   "metadata": {},
   "source": [
    "## Дом МинЖКХ"
   ]
  },
  {
   "cell_type": "code",
   "execution_count": 139,
   "metadata": {},
   "outputs": [],
   "source": [
    "result_list = []\n",
    "for i in range(11):\n",
    "    number_page = i+1\n",
    "    site = 'https://dom.mingkh.ru/ulyanovskaya-oblast/dimitrovgrad/houses?page=' + str(number_page)\n",
    "    result_list.append(parser(site))\n",
    "\n",
    "result_0 = {}\n",
    "for item in result_list:\n",
    "    result_0.update(item)\n",
    "\n",
    "pd.DataFrame(result_0).T.to_csv('ready.csv', encoding='cp1251')"
   ]
  }
 ],
 "metadata": {
  "interpreter": {
   "hash": "1f8d80d535cfd832283e4e3a1095d2ce45fe6627336684f2622a1965babb2f1c"
  },
  "kernelspec": {
   "display_name": "Python 3.9.7 64-bit (windows store)",
   "name": "python3"
  },
  "language_info": {
   "codemirror_mode": {
    "name": "ipython",
    "version": 3
   },
   "file_extension": ".py",
   "mimetype": "text/x-python",
   "name": "python",
   "nbconvert_exporter": "python",
   "pygments_lexer": "ipython3",
   "version": "3.9.7"
  },
  "orig_nbformat": 4
 },
 "nbformat": 4,
 "nbformat_minor": 2
}

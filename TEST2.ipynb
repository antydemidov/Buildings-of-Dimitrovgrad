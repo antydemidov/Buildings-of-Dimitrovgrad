{
 "cells": [
  {
   "cell_type": "code",
   "execution_count": 21,
   "metadata": {},
   "outputs": [],
   "source": [
    "import requests as rq\n",
    "import pandas as pd\n",
    "import json\n",
    "from dadata import Dadata"
   ]
  },
  {
   "cell_type": "code",
   "execution_count": 2,
   "metadata": {},
   "outputs": [],
   "source": [
    "token = str(open('access_3.txt', 'r').read())"
   ]
  },
  {
   "cell_type": "code",
   "execution_count": 5,
   "metadata": {},
   "outputs": [],
   "source": [
    "dadata = Dadata(token)\n",
    "result = dadata.find_by_id(\"address\", \"5c8433e6-3bf0-497a-a5aa-2f8a30ae1662\")"
   ]
  },
  {
   "cell_type": "code",
   "execution_count": 20,
   "metadata": {},
   "outputs": [
    {
     "data": {
      "text/plain": [
       "{'value': 'Ульяновская обл, г Димитровград, ул II Пятилетки, д 94',\n",
       " 'unrestricted_value': '433513, Ульяновская обл, г Димитровград, ул II Пятилетки, д 94',\n",
       " 'postal_code': '433513',\n",
       " 'country': 'Россия',\n",
       " 'country_iso_code': 'RU',\n",
       " 'federal_district': 'Приволжский',\n",
       " 'region_fias_id': 'fee76045-fe22-43a4-ad58-ad99e903bd58',\n",
       " 'region_kladr_id': '7300000000000',\n",
       " 'region_iso_code': 'RU-ULY',\n",
       " 'region_with_type': 'Ульяновская обл',\n",
       " 'region_type': 'обл',\n",
       " 'region_type_full': 'область',\n",
       " 'region': 'Ульяновская',\n",
       " 'area_fias_id': None,\n",
       " 'area_kladr_id': None,\n",
       " 'area_with_type': None,\n",
       " 'area_type': None,\n",
       " 'area_type_full': None,\n",
       " 'area': None,\n",
       " 'city_fias_id': '73b29372-242c-42c5-89cd-8814bc2368af',\n",
       " 'city_kladr_id': '7300000200000',\n",
       " 'city_with_type': 'г Димитровград',\n",
       " 'city_type': 'г',\n",
       " 'city_type_full': 'город',\n",
       " 'city': 'Димитровград',\n",
       " 'city_area': None,\n",
       " 'city_district_fias_id': None,\n",
       " 'city_district_kladr_id': None,\n",
       " 'city_district_with_type': None,\n",
       " 'city_district_type': None,\n",
       " 'city_district_type_full': None,\n",
       " 'city_district': None,\n",
       " 'settlement_fias_id': None,\n",
       " 'settlement_kladr_id': None,\n",
       " 'settlement_with_type': None,\n",
       " 'settlement_type': None,\n",
       " 'settlement_type_full': None,\n",
       " 'settlement': None,\n",
       " 'street_fias_id': '6c4a96f0-0461-4bc0-967a-b67ffdab2a4f',\n",
       " 'street_kladr_id': '73000002000000200',\n",
       " 'street_with_type': 'ул II Пятилетки',\n",
       " 'street_type': 'ул',\n",
       " 'street_type_full': 'улица',\n",
       " 'street': 'II Пятилетки',\n",
       " 'house_fias_id': '5c8433e6-3bf0-497a-a5aa-2f8a30ae1662',\n",
       " 'house_kladr_id': '7300000200000020073',\n",
       " 'house_cadnum': None,\n",
       " 'house_type': 'д',\n",
       " 'house_type_full': 'дом',\n",
       " 'house': '94',\n",
       " 'block_type': None,\n",
       " 'block_type_full': None,\n",
       " 'block': None,\n",
       " 'entrance': None,\n",
       " 'floor': None,\n",
       " 'flat_fias_id': None,\n",
       " 'flat_cadnum': None,\n",
       " 'flat_type': None,\n",
       " 'flat_type_full': None,\n",
       " 'flat': None,\n",
       " 'flat_area': None,\n",
       " 'square_meter_price': None,\n",
       " 'flat_price': None,\n",
       " 'postal_box': None,\n",
       " 'fias_id': '5c8433e6-3bf0-497a-a5aa-2f8a30ae1662',\n",
       " 'fias_code': '73000002000000000020073',\n",
       " 'fias_level': '8',\n",
       " 'fias_actuality_state': '0',\n",
       " 'kladr_id': '7300000200000020073',\n",
       " 'geoname_id': '566199',\n",
       " 'capital_marker': '0',\n",
       " 'okato': '73405000000',\n",
       " 'oktmo': '73705000001',\n",
       " 'tax_office': '7329',\n",
       " 'tax_office_legal': '7329',\n",
       " 'timezone': None,\n",
       " 'geo_lat': '54.220263',\n",
       " 'geo_lon': '49.597523',\n",
       " 'beltway_hit': None,\n",
       " 'beltway_distance': None,\n",
       " 'metro': None,\n",
       " 'qc_geo': '0',\n",
       " 'qc_complete': None,\n",
       " 'qc_house': None,\n",
       " 'history_values': ['ул 2 Пятилетки'],\n",
       " 'unparsed_parts': None,\n",
       " 'source': None,\n",
       " 'qc': None}"
      ]
     },
     "execution_count": 20,
     "metadata": {},
     "output_type": "execute_result"
    }
   ],
   "source": [
    "line1 = {}\n",
    "line1.update({'value':result[0]['value']})\n",
    "line1.update({'unrestricted_value':result[0]['unrestricted_value']})\n",
    "for keys in result[0]['data'].keys():\n",
    "    line1.update({keys:result[0]['data'][keys]})\n",
    "line1"
   ]
  },
  {
   "cell_type": "code",
   "execution_count": null,
   "metadata": {},
   "outputs": [],
   "source": []
  }
 ],
 "metadata": {
  "interpreter": {
   "hash": "1f8d80d535cfd832283e4e3a1095d2ce45fe6627336684f2622a1965babb2f1c"
  },
  "kernelspec": {
   "display_name": "Python 3.9.7 64-bit (windows store)",
   "name": "python3"
  },
  "language_info": {
   "codemirror_mode": {
    "name": "ipython",
    "version": 3
   },
   "file_extension": ".py",
   "mimetype": "text/x-python",
   "name": "python",
   "nbconvert_exporter": "python",
   "pygments_lexer": "ipython3",
   "version": "3.9.7"
  },
  "orig_nbformat": 4
 },
 "nbformat": 4,
 "nbformat_minor": 2
}
